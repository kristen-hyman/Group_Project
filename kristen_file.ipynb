{
 "cells": [
  {
   "cell_type": "code",
   "execution_count": 1,
   "metadata": {},
   "outputs": [
    {
     "name": "stderr",
     "output_type": "stream",
     "text": [
      "C:\\Users\\khyman003\\AppData\\Local\\Continuum\\anaconda3\\lib\\site-packages\\seaborn\\apionly.py:6: UserWarning: As seaborn no longer sets a default style on import, the seaborn.apionly module is deprecated. It will be removed in a future version.\n",
      "  warnings.warn(msg, UserWarning)\n",
      "C:\\Users\\khyman003\\AppData\\Local\\Continuum\\anaconda3\\lib\\site-packages\\IPython\\core\\interactiveshell.py:2785: DtypeWarning: Columns (61,63,79,114,115) have mixed types. Specify dtype option on import or set low_memory=False.\n",
      "  interactivity=interactivity, compiler=compiler, result=result)\n"
     ]
    },
    {
     "data": {
      "text/html": [
       "<div>\n",
       "<style scoped>\n",
       "    .dataframe tbody tr th:only-of-type {\n",
       "        vertical-align: middle;\n",
       "    }\n",
       "\n",
       "    .dataframe tbody tr th {\n",
       "        vertical-align: top;\n",
       "    }\n",
       "\n",
       "    .dataframe thead th {\n",
       "        text-align: right;\n",
       "    }\n",
       "</style>\n",
       "<table border=\"1\" class=\"dataframe\">\n",
       "  <thead>\n",
       "    <tr style=\"text-align: right;\">\n",
       "      <th></th>\n",
       "      <th>Year</th>\n",
       "      <th>Month</th>\n",
       "      <th>Country</th>\n",
       "      <th>Region</th>\n",
       "      <th>City</th>\n",
       "      <th>Attack Type</th>\n",
       "      <th>Target Type</th>\n",
       "      <th>Successful Attack</th>\n",
       "      <th>Casualties</th>\n",
       "      <th>Number Wounded</th>\n",
       "    </tr>\n",
       "  </thead>\n",
       "  <tbody>\n",
       "    <tr>\n",
       "      <th>0</th>\n",
       "      <td>2012</td>\n",
       "      <td>1</td>\n",
       "      <td>Pakistan</td>\n",
       "      <td>South Asia</td>\n",
       "      <td>Quetta</td>\n",
       "      <td>Bombing/Explosion</td>\n",
       "      <td>Business</td>\n",
       "      <td>1</td>\n",
       "      <td>0.0</td>\n",
       "      <td>12.0</td>\n",
       "    </tr>\n",
       "    <tr>\n",
       "      <th>1</th>\n",
       "      <td>2012</td>\n",
       "      <td>1</td>\n",
       "      <td>Kenya</td>\n",
       "      <td>Sub-Saharan Africa</td>\n",
       "      <td>Garissa</td>\n",
       "      <td>Armed Assault</td>\n",
       "      <td>Business</td>\n",
       "      <td>1</td>\n",
       "      <td>3.0</td>\n",
       "      <td>14.0</td>\n",
       "    </tr>\n",
       "    <tr>\n",
       "      <th>2</th>\n",
       "      <td>2012</td>\n",
       "      <td>1</td>\n",
       "      <td>Pakistan</td>\n",
       "      <td>South Asia</td>\n",
       "      <td>Sui</td>\n",
       "      <td>Bombing/Explosion</td>\n",
       "      <td>Military</td>\n",
       "      <td>1</td>\n",
       "      <td>4.0</td>\n",
       "      <td>3.0</td>\n",
       "    </tr>\n",
       "    <tr>\n",
       "      <th>3</th>\n",
       "      <td>2012</td>\n",
       "      <td>1</td>\n",
       "      <td>Kenya</td>\n",
       "      <td>Sub-Saharan Africa</td>\n",
       "      <td>Garissa</td>\n",
       "      <td>Armed Assault</td>\n",
       "      <td>Business</td>\n",
       "      <td>1</td>\n",
       "      <td>2.0</td>\n",
       "      <td>14.0</td>\n",
       "    </tr>\n",
       "    <tr>\n",
       "      <th>4</th>\n",
       "      <td>2012</td>\n",
       "      <td>1</td>\n",
       "      <td>Pakistan</td>\n",
       "      <td>South Asia</td>\n",
       "      <td>Peer Chhatta</td>\n",
       "      <td>Hostage Taking (Kidnapping)</td>\n",
       "      <td>Private Citizens &amp; Property</td>\n",
       "      <td>1</td>\n",
       "      <td>0.0</td>\n",
       "      <td>0.0</td>\n",
       "    </tr>\n",
       "  </tbody>\n",
       "</table>\n",
       "</div>"
      ],
      "text/plain": [
       "   Year  Month   Country              Region          City  \\\n",
       "0  2012      1  Pakistan          South Asia        Quetta   \n",
       "1  2012      1     Kenya  Sub-Saharan Africa       Garissa   \n",
       "2  2012      1  Pakistan          South Asia           Sui   \n",
       "3  2012      1     Kenya  Sub-Saharan Africa       Garissa   \n",
       "4  2012      1  Pakistan          South Asia  Peer Chhatta   \n",
       "\n",
       "                   Attack Type                  Target Type  \\\n",
       "0            Bombing/Explosion                     Business   \n",
       "1                Armed Assault                     Business   \n",
       "2            Bombing/Explosion                     Military   \n",
       "3                Armed Assault                     Business   \n",
       "4  Hostage Taking (Kidnapping)  Private Citizens & Property   \n",
       "\n",
       "   Successful Attack  Casualties  Number Wounded  \n",
       "0                  1         0.0            12.0  \n",
       "1                  1         3.0            14.0  \n",
       "2                  1         4.0             3.0  \n",
       "3                  1         2.0            14.0  \n",
       "4                  1         0.0             0.0  "
      ]
     },
     "execution_count": 1,
     "metadata": {},
     "output_type": "execute_result"
    }
   ],
   "source": [
    "#Import dependencies\n",
    "\n",
    "import pandas as pd\n",
    "import numpy as np\n",
    "import matplotlib.pyplot as plt\n",
    "plt.style.use('ggplot')\n",
    "import seaborn.apionly as sns\n",
    "\n",
    "#import CSV\n",
    "terror = \"Terrorism.csv\"\n",
    "df = pd.read_csv(terror, encoding = \"Latin\")\n",
    "\n",
    "#Pull in columns that we need from the large data set\n",
    "df2 = df[[\"iyear\",\"imonth\", \"country_txt\", \"region_txt\", \"city\", \"attacktype1_txt\", \"targtype1_txt\",\"success\",\"nkill\",\"nwound\"]]\n",
    "\n",
    "#Rename the columns for better understanding\n",
    "renamed_df = df2.rename(columns={\"iyear\": \"Year\",\"imonth\": \"Month\", \"country_txt\": \"Country\", \n",
    "                \"region_txt\":\"Region\", \"city\":\"City\", \"attacktype1_txt\": \"Attack Type\",\n",
    "                \"targtype1_txt\":\"Target Type\",\"nkill\":\"Casualties\",\"nwound\":\"Number Wounded\",\n",
    "                                 \"success\":\"Successful Attack\"})\n",
    "renamed_df.head()"
   ]
  },
  {
   "cell_type": "code",
   "execution_count": 61,
   "metadata": {},
   "outputs": [
    {
     "data": {
      "text/html": [
       "<div>\n",
       "<style scoped>\n",
       "    .dataframe tbody tr th:only-of-type {\n",
       "        vertical-align: middle;\n",
       "    }\n",
       "\n",
       "    .dataframe tbody tr th {\n",
       "        vertical-align: top;\n",
       "    }\n",
       "\n",
       "    .dataframe thead th {\n",
       "        text-align: right;\n",
       "    }\n",
       "</style>\n",
       "<table border=\"1\" class=\"dataframe\">\n",
       "  <thead>\n",
       "    <tr style=\"text-align: right;\">\n",
       "      <th></th>\n",
       "      <th>Successful Attack</th>\n",
       "      <th>Failed Attack</th>\n",
       "    </tr>\n",
       "    <tr>\n",
       "      <th>Year</th>\n",
       "      <th></th>\n",
       "      <th></th>\n",
       "    </tr>\n",
       "  </thead>\n",
       "  <tbody>\n",
       "    <tr>\n",
       "      <th>2012</th>\n",
       "      <td>7600</td>\n",
       "      <td>922</td>\n",
       "    </tr>\n",
       "    <tr>\n",
       "      <th>2013</th>\n",
       "      <td>10484</td>\n",
       "      <td>1552</td>\n",
       "    </tr>\n",
       "    <tr>\n",
       "      <th>2014</th>\n",
       "      <td>15015</td>\n",
       "      <td>1888</td>\n",
       "    </tr>\n",
       "    <tr>\n",
       "      <th>2015</th>\n",
       "      <td>12676</td>\n",
       "      <td>2289</td>\n",
       "    </tr>\n",
       "    <tr>\n",
       "      <th>2016</th>\n",
       "      <td>10975</td>\n",
       "      <td>2612</td>\n",
       "    </tr>\n",
       "  </tbody>\n",
       "</table>\n",
       "</div>"
      ],
      "text/plain": [
       "      Successful Attack  Failed Attack\n",
       "Year                                  \n",
       "2012               7600            922\n",
       "2013              10484           1552\n",
       "2014              15015           1888\n",
       "2015              12676           2289\n",
       "2016              10975           2612"
      ]
     },
     "execution_count": 61,
     "metadata": {},
     "output_type": "execute_result"
    }
   ],
   "source": [
    "#Group the full dataframe above by year, and count the total number of records. This will equate to the total\n",
    "#number of attacks, sucessful or not.\n",
    "\n",
    "worldwide = renamed_df.groupby([\"Year\"]).count()\n",
    "worldwidecount = worldwide[[\"Country\"]]\n",
    "renamed_worldwidecount = worldwidecount.rename(columns={\"Country\":\"Number of Total Attacks\"})\n",
    "renamed_worldwidecount.head()\n",
    "\n",
    "\n",
    "#Filter the full dataframe above for only successful attacks\n",
    "WWsuccess = renamed_df.loc[renamed_df[\"Successful Attack\"] == 1, :]\n",
    "WWsuccessct = WWsuccess.groupby([\"Year\"]).count()\n",
    "WWsuccessDF = WWsuccessct[[\"Successful Attack\"]]\n",
    "WWsuccessDF.head()\n",
    "\n",
    "#Filter the full dataframe above for only failed attacks\n",
    "WWfail = renamed_df.loc[renamed_df[\"Successful Attack\"] == 0, :]\n",
    "WWfailct = WWfail.groupby([\"Year\"]).count()\n",
    "WWfailDF = WWfailct[[\"Successful Attack\"]]\n",
    "WWfailDF_renamed= WWfailDF.rename(columns={\"Successful Attack\":\"Failed Attack\"})\n",
    "WWfailDF.head()\n",
    "\n",
    "#Combine the dataframes to include successful and failed attacks for easy plotting\n",
    "CombinedSuccessFail = pd.merge(WWsuccessDF, WWfailDF_renamed, on=\"Year\")\n",
    "CombinedSuccessFail.head()"
   ]
  },
  {
   "cell_type": "code",
   "execution_count": 62,
   "metadata": {},
   "outputs": [
    {
     "data": {
      "text/plain": [
       "<matplotlib.axes._subplots.AxesSubplot at 0x27ab4405710>"
      ]
     },
     "execution_count": 62,
     "metadata": {},
     "output_type": "execute_result"
    },
    {
     "data": {
      "image/png": "[encoded data removed]",
      "text/plain": [
       "<Figure size 432x288 with 1 Axes>"
      ]
     },
     "metadata": {},
     "output_type": "display_data"
    }
   ],
   "source": [
    "SuccessFailChart = CombinedSuccessFail.plot(kind=\"bar\", stacked=True, \n",
    "                                            title=\"Total Attacks: Successful and Failed\",\n",
    "                                            width=.9, color = [\"c\",\"teal\"])\n",
    "plt.ylim((0,20000))\n",
    "SuccessFailChart"
   ]
  },
  {
   "cell_type": "code",
   "execution_count": 67,
   "metadata": {},
   "outputs": [
    {
     "data": {
      "image/png": "[encoded data removed]",
      "text/plain": [
       "<Figure size 432x288 with 1 Axes>"
      ]
     },
     "metadata": {},
     "output_type": "display_data"
    }
   ],
   "source": [
    "FailChart = WWfailDF_renamed.plot(kind=\"bar\", title=\"Total Attempted and Failed Attacks\", width=.9, color = [\"teal\"])"
   ]
  },
  {
   "cell_type": "code",
   "execution_count": 68,
   "metadata": {},
   "outputs": [
    {
     "data": {
      "image/png": "[encoded data removed]",
      "text/plain": [
       "<Figure size 432x288 with 1 Axes>"
      ]
     },
     "metadata": {},
     "output_type": "display_data"
    }
   ],
   "source": [
    "SucessChart = WWsuccessDF.plot(kind=\"bar\", title=\"Total Attempted and Successful Attacks\", width=.9, color = [\"c\"])"
   ]
  },
  {
   "cell_type": "code",
   "execution_count": 66,
   "metadata": {},
   "outputs": [
    {
     "data": {
      "text/plain": [
       "Text(0.5,1,'Average Attacks by Month (2012-2017)')"
      ]
     },
     "execution_count": 66,
     "metadata": {},
     "output_type": "execute_result"
    },
    {
     "data": {
      "image/png": "[encoded data removed]",
      "text/plain": [
       "<Figure size 432x288 with 1 Axes>"
      ]
     },
     "metadata": {},
     "output_type": "display_data"
    }
   ],
   "source": [
    "#Plot Seasonality of attacks worldwide\n",
    "\n",
    "monthlyDFcolumns = renamed_df[[\"Year\",\"Month\"]]\n",
    "MonthlyDF = (monthlyDFcolumns.groupby([\"Month\"]).count()/6)\n",
    "MonthlyDF.head()\n",
    "\n",
    "\n",
    "SeasonalityChart = MonthlyDF.plot(color=[\"c\",\"teal\"])\n",
    "titles = (\"\",\"Jan\",\"Feb\",\"Mar\",\"Apr\",\"May\",\"Jun\",\"Jul\",\"Aug\",\"Sept\",\"Oct\",\"Nov\",\"Dec\")\n",
    "y_pos = np.arange(len(titles))\n",
    "plt.xticks(y_pos, titles)\n",
    "plt.legend([\"Total Avg Attacks\"])\n",
    "SeasonalityChart.set_ylabel(\"Number of Attacks\")\n",
    "SeasonalityChart.set_title(\"Average Attacks by Month (2012-2017)\")"
   ]
  },
  {
   "cell_type": "code",
   "execution_count": null,
   "metadata": {},
   "outputs": [],
   "source": []
  },
  {
   "cell_type": "code",
   "execution_count": 90,
   "metadata": {},
   "outputs": [
    {
     "data": {
      "text/html": [
       "<div>\n",
       "<style scoped>\n",
       "    .dataframe tbody tr th:only-of-type {\n",
       "        vertical-align: middle;\n",
       "    }\n",
       "\n",
       "    .dataframe tbody tr th {\n",
       "        vertical-align: top;\n",
       "    }\n",
       "\n",
       "    .dataframe thead th {\n",
       "        text-align: right;\n",
       "    }\n",
       "</style>\n",
       "<table border=\"1\" class=\"dataframe\">\n",
       "  <thead>\n",
       "    <tr style=\"text-align: right;\">\n",
       "      <th></th>\n",
       "      <th>Avg Monthly Successful Attacks</th>\n",
       "      <th>Avg Monthly Failed Attacks</th>\n",
       "    </tr>\n",
       "    <tr>\n",
       "      <th>Month</th>\n",
       "      <th></th>\n",
       "      <th></th>\n",
       "    </tr>\n",
       "  </thead>\n",
       "  <tbody>\n",
       "    <tr>\n",
       "      <th>1</th>\n",
       "      <td>937.000000</td>\n",
       "      <td>146.000000</td>\n",
       "    </tr>\n",
       "    <tr>\n",
       "      <th>2</th>\n",
       "      <td>832.666667</td>\n",
       "      <td>161.666667</td>\n",
       "    </tr>\n",
       "    <tr>\n",
       "      <th>3</th>\n",
       "      <td>892.166667</td>\n",
       "      <td>151.833333</td>\n",
       "    </tr>\n",
       "    <tr>\n",
       "      <th>4</th>\n",
       "      <td>909.000000</td>\n",
       "      <td>166.000000</td>\n",
       "    </tr>\n",
       "    <tr>\n",
       "      <th>5</th>\n",
       "      <td>1050.500000</td>\n",
       "      <td>178.166667</td>\n",
       "    </tr>\n",
       "  </tbody>\n",
       "</table>\n",
       "</div>"
      ],
      "text/plain": [
       "       Avg Monthly Successful Attacks  Avg Monthly Failed Attacks\n",
       "Month                                                            \n",
       "1                          937.000000                  146.000000\n",
       "2                          832.666667                  161.666667\n",
       "3                          892.166667                  151.833333\n",
       "4                          909.000000                  166.000000\n",
       "5                         1050.500000                  178.166667"
      ]
     },
     "execution_count": 90,
     "metadata": {},
     "output_type": "execute_result"
    }
   ],
   "source": [
    "#Filter the full dataframe above for only successful attacks\n",
    "WWsuccess2 = renamed_df.loc[renamed_df[\"Successful Attack\"] == 1, :]\n",
    "WWsuccessct2 = WWsuccess.groupby([\"Month\"]).count()/6\n",
    "WWsuccessDF2 = WWsuccessct2[[\"Successful Attack\"]]\n",
    "WWsuccessDF2_renamed = WWsuccessDF2.rename(columns={\"Successful Attack\":\"Avg Monthly Successful Attacks\"})\n",
    "WWsuccessDF2.head()\n",
    "\n",
    "#Filter the full dataframe above for only failed attacks\n",
    "WWfail2 = renamed_df.loc[renamed_df[\"Successful Attack\"] == 0, :]\n",
    "WWfailct2 = WWfail2.groupby([\"Month\"]).count()/6\n",
    "WWfailDF2 = WWfailct2[[\"Successful Attack\"]]\n",
    "WWfailDF2_renamed = WWfailDF2.rename(columns={\"Successful Attack\":\"Avg Monthly Failed Attacks\"})\n",
    "WWfailDF2_renamed.head()\n"
   ]
  },
  {
   "cell_type": "code",
   "execution_count": 92,
   "metadata": {},
   "outputs": [
    {
     "data": {
      "text/plain": [
       "Text(0.5,1,'Average Attacks by Month (2012-2017)')"
      ]
     },
     "execution_count": 92,
     "metadata": {},
     "output_type": "execute_result"
    },
    {
     "data": {
      "image/png": "[encoded data removed]",
      "text/plain": [
       "<Figure size 432x288 with 1 Axes>"
      ]
     },
     "metadata": {},
     "output_type": "display_data"
    }
   ],
   "source": [
    "FailedSeasonality = WWfailDF2_renamed.plot(color=[\"c\",\"teal\"])\n",
    "titles = (\"\",\"Jan\",\"Feb\",\"Mar\",\"Apr\",\"May\",\"Jun\",\"Jul\",\"Aug\",\"Sept\",\"Oct\",\"Nov\",\"Dec\")\n",
    "y_pos = np.arange(len(titles))\n",
    "plt.xticks(y_pos, titles)\n",
    "plt.legend([\"Total Avg Attacks\"])\n",
    "SeasonalityChart.set_ylabel(\"Number of Attacks\")\n",
    "SeasonalityChart.set_title(\"Average Attacks by Month (2012-2017)\")"
   ]
  },
  {
   "cell_type": "code",
   "execution_count": 93,
   "metadata": {},
   "outputs": [
    {
     "data": {
      "text/plain": [
       "Text(0.5,1,'Average Attacks by Month (2012-2017)')"
      ]
     },
     "execution_count": 93,
     "metadata": {},
     "output_type": "execute_result"
    },
    {
     "data": {
      "image/png": "[encoded data removed]",
      "text/plain": [
       "<Figure size 432x288 with 1 Axes>"
      ]
     },
     "metadata": {},
     "output_type": "display_data"
    }
   ],
   "source": [
    "SuccessSeasonality = WWsuccessDF2_renamed.plot(color=[\"c\",\"teal\"])\n",
    "titles = (\"\",\"Jan\",\"Feb\",\"Mar\",\"Apr\",\"May\",\"Jun\",\"Jul\",\"Aug\",\"Sept\",\"Oct\",\"Nov\",\"Dec\")\n",
    "y_pos = np.arange(len(titles))\n",
    "plt.xticks(y_pos, titles)\n",
    "plt.legend([\"Total Avg Attacks\"])\n",
    "SeasonalityChart.set_ylabel(\"Number of Attacks\")\n",
    "SeasonalityChart.set_title(\"Average Attacks by Month (2012-2017)\")"
   ]
  },
  {
   "cell_type": "code",
   "execution_count": 8,
   "metadata": {},
   "outputs": [],
   "source": [
    "#Group the dataframe by Region and Year, and get the count\n",
    "terror = renamed_df.groupby([\"Region\"]).count()\n",
    "terroryear = terror.groupby([\"Year\"])\n"
   ]
  },
  {
   "cell_type": "code",
   "execution_count": 9,
   "metadata": {},
   "outputs": [
    {
     "name": "stderr",
     "output_type": "stream",
     "text": [
      "C:\\Users\\khyman003\\AppData\\Local\\Continuum\\anaconda3\\lib\\site-packages\\pandas\\core\\ops.py:1164: FutureWarning: elementwise comparison failed; returning scalar instead, but in the future will perform elementwise comparison\n",
      "  result = method(y)\n"
     ]
    },
    {
     "ename": "TypeError",
     "evalue": "invalid type comparison",
     "output_type": "error",
     "traceback": [
      "\u001b[1;31m---------------------------------------------------------------------------\u001b[0m",
      "\u001b[1;31mTypeError\u001b[0m                                 Traceback (most recent call last)",
      "\u001b[1;32m<ipython-input-9-fa3a5e4faef9>\u001b[0m in \u001b[0;36m<module>\u001b[1;34m()\u001b[0m\n\u001b[0;32m      2\u001b[0m \u001b[1;33m\u001b[0m\u001b[0m\n\u001b[0;32m      3\u001b[0m \u001b[1;31m#Break up dataframes by year\u001b[0m\u001b[1;33m\u001b[0m\u001b[1;33m\u001b[0m\u001b[0m\n\u001b[1;32m----> 4\u001b[1;33m \u001b[0mFY2012DF\u001b[0m  \u001b[1;33m=\u001b[0m \u001b[0mrenamed_df\u001b[0m\u001b[1;33m.\u001b[0m\u001b[0mloc\u001b[0m\u001b[1;33m[\u001b[0m\u001b[0mrenamed_df\u001b[0m\u001b[1;33m[\u001b[0m\u001b[1;34m\"Year\"\u001b[0m\u001b[1;33m]\u001b[0m \u001b[1;33m==\u001b[0m \u001b[1;34m\"2012\"\u001b[0m\u001b[1;33m,\u001b[0m \u001b[1;33m:\u001b[0m\u001b[1;33m]\u001b[0m\u001b[1;33m\u001b[0m\u001b[0m\n\u001b[0m\u001b[0;32m      5\u001b[0m \u001b[0mFY2013DF\u001b[0m  \u001b[1;33m=\u001b[0m \u001b[0mrenamed_df\u001b[0m\u001b[1;33m.\u001b[0m\u001b[0mloc\u001b[0m\u001b[1;33m[\u001b[0m\u001b[0mrenamed_df\u001b[0m\u001b[1;33m[\u001b[0m\u001b[1;34m\"Year\"\u001b[0m\u001b[1;33m]\u001b[0m \u001b[1;33m==\u001b[0m \u001b[1;34m\"2013\"\u001b[0m\u001b[1;33m,\u001b[0m \u001b[1;33m:\u001b[0m\u001b[1;33m]\u001b[0m\u001b[1;33m\u001b[0m\u001b[0m\n\u001b[0;32m      6\u001b[0m \u001b[0mFY2014DF\u001b[0m  \u001b[1;33m=\u001b[0m \u001b[0mrenamed_df\u001b[0m\u001b[1;33m.\u001b[0m\u001b[0mloc\u001b[0m\u001b[1;33m[\u001b[0m\u001b[0mrenamed_df\u001b[0m\u001b[1;33m[\u001b[0m\u001b[1;34m\"Year\"\u001b[0m\u001b[1;33m]\u001b[0m \u001b[1;33m==\u001b[0m \u001b[1;34m\"2014\"\u001b[0m\u001b[1;33m,\u001b[0m \u001b[1;33m:\u001b[0m\u001b[1;33m]\u001b[0m\u001b[1;33m\u001b[0m\u001b[0m\n",
      "\u001b[1;32m~\\AppData\\Local\\Continuum\\anaconda3\\lib\\site-packages\\pandas\\core\\ops.py\u001b[0m in \u001b[0;36mwrapper\u001b[1;34m(self, other, axis)\u001b[0m\n\u001b[0;32m   1251\u001b[0m \u001b[1;33m\u001b[0m\u001b[0m\n\u001b[0;32m   1252\u001b[0m             \u001b[1;32mwith\u001b[0m \u001b[0mnp\u001b[0m\u001b[1;33m.\u001b[0m\u001b[0merrstate\u001b[0m\u001b[1;33m(\u001b[0m\u001b[0mall\u001b[0m\u001b[1;33m=\u001b[0m\u001b[1;34m'ignore'\u001b[0m\u001b[1;33m)\u001b[0m\u001b[1;33m:\u001b[0m\u001b[1;33m\u001b[0m\u001b[0m\n\u001b[1;32m-> 1253\u001b[1;33m                 \u001b[0mres\u001b[0m \u001b[1;33m=\u001b[0m \u001b[0mna_op\u001b[0m\u001b[1;33m(\u001b[0m\u001b[0mvalues\u001b[0m\u001b[1;33m,\u001b[0m \u001b[0mother\u001b[0m\u001b[1;33m)\u001b[0m\u001b[1;33m\u001b[0m\u001b[0m\n\u001b[0m\u001b[0;32m   1254\u001b[0m             \u001b[1;32mif\u001b[0m \u001b[0mis_scalar\u001b[0m\u001b[1;33m(\u001b[0m\u001b[0mres\u001b[0m\u001b[1;33m)\u001b[0m\u001b[1;33m:\u001b[0m\u001b[1;33m\u001b[0m\u001b[0m\n\u001b[0;32m   1255\u001b[0m                 raise TypeError('Could not compare {typ} type with Series'\n",
      "\u001b[1;32m~\\AppData\\Local\\Continuum\\anaconda3\\lib\\site-packages\\pandas\\core\\ops.py\u001b[0m in \u001b[0;36mna_op\u001b[1;34m(x, y)\u001b[0m\n\u001b[0;32m   1164\u001b[0m                     \u001b[0mresult\u001b[0m \u001b[1;33m=\u001b[0m \u001b[0mmethod\u001b[0m\u001b[1;33m(\u001b[0m\u001b[0my\u001b[0m\u001b[1;33m)\u001b[0m\u001b[1;33m\u001b[0m\u001b[0m\n\u001b[0;32m   1165\u001b[0m                 \u001b[1;32mif\u001b[0m \u001b[0mresult\u001b[0m \u001b[1;32mis\u001b[0m \u001b[0mNotImplemented\u001b[0m\u001b[1;33m:\u001b[0m\u001b[1;33m\u001b[0m\u001b[0m\n\u001b[1;32m-> 1166\u001b[1;33m                     \u001b[1;32mraise\u001b[0m \u001b[0mTypeError\u001b[0m\u001b[1;33m(\u001b[0m\u001b[1;34m\"invalid type comparison\"\u001b[0m\u001b[1;33m)\u001b[0m\u001b[1;33m\u001b[0m\u001b[0m\n\u001b[0m\u001b[0;32m   1167\u001b[0m             \u001b[1;32melse\u001b[0m\u001b[1;33m:\u001b[0m\u001b[1;33m\u001b[0m\u001b[0m\n\u001b[0;32m   1168\u001b[0m                 \u001b[0mresult\u001b[0m \u001b[1;33m=\u001b[0m \u001b[0mop\u001b[0m\u001b[1;33m(\u001b[0m\u001b[0mx\u001b[0m\u001b[1;33m,\u001b[0m \u001b[0my\u001b[0m\u001b[1;33m)\u001b[0m\u001b[1;33m\u001b[0m\u001b[0m\n",
      "\u001b[1;31mTypeError\u001b[0m: invalid type comparison"
     ]
    }
   ],
   "source": [
    "#Create a dataframe that aggregates the count of total attacks ()\n",
    "\n",
    "#Break up dataframes by year\n",
    "FY2012DF  = renamed_df.loc[renamed_df[\"Year\"] == \"2012\", :]\n",
    "FY2013DF  = renamed_df.loc[renamed_df[\"Year\"] == \"2013\", :]\n",
    "FY2014DF  = renamed_df.loc[renamed_df[\"Year\"] == \"2014\", :]\n",
    "FY2015DF  = renamed_df.loc[renamed_df[\"Year\"] == \"2015\", :]\n",
    "FY2016DF  = renamed_df.loc[renamed_df[\"Year\"] == \"2016\", :]\n",
    "FY2017DF  = renamed_df.loc[renamed_df[\"Year\"] == \"2017\", :]\n",
    "\n",
    "\n",
    "#Group by region and count how many attacks that year\n",
    "Region2012 = FY2012DF.groupby([\"Region\"]).count()\n",
    "Region2013 = FY2013DF.groupby([\"Region\"]).count()\n",
    "Region2014 = FY2014DF.groupby([\"Region\"]).count()\n",
    "Region2015 = FY2015DF.groupby([\"Region\"]).count()\n",
    "Region2016 = FY2016DF.groupby([\"Region\"]).count()\n",
    "Region2017 = FY2017DF.groupby([\"Region\"]).count()\n",
    "\n",
    "\n",
    "#pull out one column count to plot.\n",
    "Chart2012 = Region2012[[\"Year\"]]\n",
    "Chart2013 = Region2013[[\"Year\"]]\n",
    "Chart2014 = Region2014[[\"Year\"]]\n",
    "Chart2015 = Region2015[[\"Year\"]]\n",
    "Chart2016 = Region2016[[\"Year\"]]\n",
    "Chart2017 = Region2017[[\"Year\"]]\n",
    "\n",
    "Combined = pd.merge(Chart2012, Chart2013, on=\"Region\")\n",
    "CombinedRename = Combined.rename(columns = {\"Year_x\": \"2012\", \"Year_y\": \"2013\"})\n",
    "\n",
    "Combined2 = pd.merge(CombinedRename, Chart2014, on=\"Region\")\n",
    "Combined2Rename = Combined2.rename(columns = {\"Year\":\"2014\"})\n",
    "\n",
    "Combined3 = pd.merge(Combined2Rename, Chart2015, on=\"Region\")\n",
    "Combined3Rename = Combined3.rename(columns = {\"Year\":\"2015\"})\n",
    "\n",
    "Combined4 = pd.merge(Combined3Rename, Chart2016, on=\"Region\")\n",
    "Combined4Rename = Combined4.rename(columns = {\"Year\":\"2016\"})\n",
    "\n",
    "Combined5 = pd.merge(Combined4Rename, Chart2017, on=\"Region\")\n",
    "Combined5Rename = Combined5.rename(columns = {\"Year\":\"2017\"})\n",
    "Combined5Rename"
   ]
  },
  {
   "cell_type": "code",
   "execution_count": null,
   "metadata": {},
   "outputs": [],
   "source": [
    "#Middle East Chart\n",
    "MiddleEast = Combined5Rename.iloc[4,:]\n",
    "Africa = Combined5Rename.iloc[9, :]"
   ]
  },
  {
   "cell_type": "code",
   "execution_count": null,
   "metadata": {
    "scrolled": true
   },
   "outputs": [],
   "source": [
    "\n",
    "MEbarchart = MiddleEast.plot(kind='bar', width=.9, color = [\"turquoise\",\"mediumturquoise\",\n",
    "                             \"darkturquoise\",\"c\",\"lightseagreen\",\"teal\"])\n",
    "\n",
    "# Set the xlabel and ylabel using class methods\n",
    "\n",
    "MEbarchart.set_xlabel(\"Year\")\n",
    "MEbarchart.set_ylabel(\"Number of Attacks\")\n",
    "MEbarchart.set_title(\"Middle East/North Africa: Total Attacks from 2012-2017\")\n",
    "\n",
    "#Terroism is on the decline, what could be driving that? why were attacks high in 2014? Islamic state decline?"
   ]
  },
  {
   "cell_type": "code",
   "execution_count": null,
   "metadata": {},
   "outputs": [],
   "source": [
    "newdf = renamed_df[[\"Year\",\"Month\",\"Region\",\"Casualties\"]]\n",
    "onlyME = newdf.loc[newdf[\"Region\"] == \"Middle East & North Africa\",:]\n",
    "MEbyyear = (onlyME.groupby([\"Month\"]).sum())/6\n",
    "\n",
    "MElinechart2 = MEbyyear.plot(color=\"c\")\n",
    "titles = (\"\",\"Jan\",\"Feb\",\"Mar\",\"Apr\",\"May\",\"Jun\",\"Jul\",\"Aug\",\"Sept\",\"Oct\",\"Nov\",\"Dec\")\n",
    "y_pos = np.arange(len(titles))\n",
    "plt.xticks(y_pos, titles)\n",
    "MElinechart2.set_xlabel(\"Year\")\n",
    "MElinechart2.set_ylabel(\"Number of Attacks\")\n",
    "MElinechart2.set_title(\"Middle East & North Africa Average # of Casualties by Month (2012-2017)\")"
   ]
  },
  {
   "cell_type": "code",
   "execution_count": null,
   "metadata": {},
   "outputs": [],
   "source": [
    "#Show how many incidences happened each year in Sub-Saharan Africa\n",
    "africabarchart = Africa.plot(kind='bar',width=.9, color = [\"turquoise\",\"mediumturquoise\",\n",
    "                             \"darkturquoise\",\"c\",\"lightseagreen\",\"teal\"])\n",
    "africabarchart.set_xlabel(\"Year\")\n",
    "africabarchart.set_ylabel(\"Number of Attacks\")\n",
    "africabarchart.set_title(\"Sub-Saharan Africa: Total Attacks from 2012-2017\")\n",
    "\n",
    "africabarchart"
   ]
  },
  {
   "cell_type": "code",
   "execution_count": null,
   "metadata": {},
   "outputs": [],
   "source": [
    "#Get Africa data by month, show how average number of casualities each month.\n",
    "\n",
    "africabyyear = (onlyafrica.groupby([\"Month\"]).sum())/6\n",
    "africabyyear.T\n",
    "\n",
    "africalinechart2 = africabyyear.plot(color=\"c\")\n",
    "titles = (\"\",\"Jan\",\"Feb\",\"Mar\",\"Apr\",\"May\",\"Jun\",\"Jul\",\"Aug\",\"Sept\",\"Oct\",\"Nov\",\"Dec\")\n",
    "y_pos = np.arange(len(titles))\n",
    "plt.xticks(y_pos, titles)\n",
    "africalinechart2.set_xlabel(\"Year\")\n",
    "africalinechart2.set_ylabel(\"Number of Attacks\")\n",
    "africalinechart2.set_title(\"Sub-Saharan Africa Average # of Casualties by Month (2012-2017)\")"
   ]
  },
  {
   "cell_type": "code",
   "execution_count": null,
   "metadata": {},
   "outputs": [],
   "source": []
  }
 ],
 "metadata": {
  "kernelspec": {
   "display_name": "Python [default]",
   "language": "python",
   "name": "python3"
  },
  "language_info": {
   "codemirror_mode": {
    "name": "ipython",
    "version": 3
   },
   "file_extension": ".py",
   "mimetype": "text/x-python",
   "name": "python",
   "nbconvert_exporter": "python",
   "pygments_lexer": "ipython3",
   "version": "3.6.5"
  }
 },
 "nbformat": 4,
 "nbformat_minor": 2
}
