{
 "cells": [
  {
   "cell_type": "code",
   "execution_count": 14,
   "metadata": {},
   "outputs": [],
   "source": [
    "import pandas as pd\n",
    "import numpy as np\n",
    "import matplotlib.pyplot as plt\n",
    "plt.style.use('ggplot')\n",
    "\n",
    "\n",
    "terror_in_africa = \"Terrorism_Africa.csv\"\n"
   ]
  },
  {
   "cell_type": "code",
   "execution_count": 15,
   "metadata": {},
   "outputs": [],
   "source": [
    "terror_data = pd.read_csv(terror_in_africa)\n"
   ]
  },
  {
   "cell_type": "code",
   "execution_count": 16,
   "metadata": {},
   "outputs": [
    {
     "data": {
      "text/html": [
       "<div>\n",
       "<style scoped>\n",
       "    .dataframe tbody tr th:only-of-type {\n",
       "        vertical-align: middle;\n",
       "    }\n",
       "\n",
       "    .dataframe tbody tr th {\n",
       "        vertical-align: top;\n",
       "    }\n",
       "\n",
       "    .dataframe thead th {\n",
       "        text-align: right;\n",
       "    }\n",
       "</style>\n",
       "<table border=\"1\" class=\"dataframe\">\n",
       "  <thead>\n",
       "    <tr style=\"text-align: right;\">\n",
       "      <th></th>\n",
       "      <th>Country</th>\n",
       "      <th>Attacks</th>\n",
       "    </tr>\n",
       "  </thead>\n",
       "  <tbody>\n",
       "    <tr>\n",
       "      <th>0</th>\n",
       "      <td>Angola</td>\n",
       "      <td>6</td>\n",
       "    </tr>\n",
       "    <tr>\n",
       "      <th>1</th>\n",
       "      <td>Burkina Faso</td>\n",
       "      <td>32</td>\n",
       "    </tr>\n",
       "    <tr>\n",
       "      <th>2</th>\n",
       "      <td>Burundi</td>\n",
       "      <td>21</td>\n",
       "    </tr>\n",
       "    <tr>\n",
       "      <th>3</th>\n",
       "      <td>Cameroon</td>\n",
       "      <td>94</td>\n",
       "    </tr>\n",
       "    <tr>\n",
       "      <th>4</th>\n",
       "      <td>Central African Republic</td>\n",
       "      <td>43</td>\n",
       "    </tr>\n",
       "  </tbody>\n",
       "</table>\n",
       "</div>"
      ],
      "text/plain": [
       "                    Country  Attacks\n",
       "0                    Angola        6\n",
       "1              Burkina Faso       32\n",
       "2                   Burundi       21\n",
       "3                  Cameroon       94\n",
       "4  Central African Republic       43"
      ]
     },
     "execution_count": 16,
     "metadata": {},
     "output_type": "execute_result"
    }
   ],
   "source": [
    "terror_data.head()"
   ]
  },
  {
   "cell_type": "code",
   "execution_count": 17,
   "metadata": {},
   "outputs": [],
   "source": [
    "country = terror_data[\"Country\"]\n",
    "attacks = terror_data[\"Attacks\"]\n"
   ]
  },
  {
   "cell_type": "code",
   "execution_count": 18,
   "metadata": {},
   "outputs": [
    {
     "name": "stderr",
     "output_type": "stream",
     "text": [
      "/anaconda3/lib/python3.6/site-packages/ipykernel_launcher.py:6: SettingWithCopyWarning: \n",
      "A value is trying to be set on a copy of a slice from a DataFrame\n",
      "\n",
      "See the caveats in the documentation: http://pandas.pydata.org/pandas-docs/stable/indexing.html#indexing-view-versus-copy\n",
      "  \n",
      "/anaconda3/lib/python3.6/site-packages/ipykernel_launcher.py:4: SettingWithCopyWarning: \n",
      "A value is trying to be set on a copy of a slice from a DataFrame\n",
      "\n",
      "See the caveats in the documentation: http://pandas.pydata.org/pandas-docs/stable/indexing.html#indexing-view-versus-copy\n",
      "  after removing the cwd from sys.path.\n"
     ]
    }
   ],
   "source": [
    "i = 0\n",
    "for name in country: \n",
    "    if name == \"Democratic Republic of the Congo\":\n",
    "        country[i] = \"Congo\"\n",
    "    if name == \"Central African Republic\":\n",
    "        country[i] = \"CAR\"\n",
    "    i = i+1    \n",
    "    "
   ]
  },
  {
   "cell_type": "code",
   "execution_count": 19,
   "metadata": {},
   "outputs": [
    {
     "data": {
      "text/plain": [
       "0           Angola\n",
       "1     Burkina Faso\n",
       "2          Burundi\n",
       "3         Cameroon\n",
       "4              CAR\n",
       "5             Chad\n",
       "6            Congo\n",
       "7         Djibouti\n",
       "8         Ethiopia\n",
       "9            Gabon\n",
       "10     Ivory Coast\n",
       "11           Kenya\n",
       "12         Liberia\n",
       "13          Malawi\n",
       "14            Mali\n",
       "15      Mozambique\n",
       "16           Niger\n",
       "17         Nigeria\n",
       "18          Rwanda\n",
       "19    Sierra Leone\n",
       "20         Somalia\n",
       "21    South Africa\n",
       "22     South Sudan\n",
       "23           Sudan\n",
       "24        Tanzania\n",
       "25          Uganda\n",
       "26          Zambia\n",
       "27        Zimbabwe\n",
       "Name: Country, dtype: object"
      ]
     },
     "execution_count": 19,
     "metadata": {},
     "output_type": "execute_result"
    }
   ],
   "source": [
    "country"
   ]
  },
  {
   "cell_type": "code",
   "execution_count": 20,
   "metadata": {},
   "outputs": [
    {
     "data": {
      "text/plain": [
       "Text(0.5,1,'2017 Terror Attacks: Sub-Saharan Africa ')"
      ]
     },
     "execution_count": 20,
     "metadata": {},
     "output_type": "execute_result"
    },
    {
     "data": {
      "image/png": "[encoded data removed]",
      "text/plain": [
       "<Figure size 432x288 with 1 Axes>"
      ]
     },
     "metadata": {},
     "output_type": "display_data"
    }
   ],
   "source": [
    "plt.bar(country, attacks, align = \"center\", color = [\"turquoise\",\"mediumturquoise\",\n",
    "                             \"darkturquoise\",\"c\",\"lightseagreen\",\"teal\"])\n",
    "\n",
    "y_pos = np.arange(len(country))\n",
    "plt.xticks(y_pos, country, rotation = 85)\n",
    "plt.ylabel(\"Terror Attacks\")\n",
    "plt.title(\"2017 Terror Attacks: Sub-Saharan Africa \")\n"
   ]
  },
  {
   "cell_type": "code",
   "execution_count": 21,
   "metadata": {},
   "outputs": [
    {
     "data": {
      "text/plain": [
       "0       6\n",
       "1      32\n",
       "2      21\n",
       "3      94\n",
       "4      43\n",
       "5       6\n",
       "6     143\n",
       "7       1\n",
       "8      27\n",
       "9       4\n",
       "10     13\n",
       "11     97\n",
       "12      1\n",
       "13      1\n",
       "14    141\n",
       "15     11\n",
       "16     13\n",
       "17    484\n",
       "18      2\n",
       "19      3\n",
       "20    614\n",
       "21     29\n",
       "22     54\n",
       "23    106\n",
       "24      6\n",
       "25     13\n",
       "26      2\n",
       "27      3\n",
       "Name: Attacks, dtype: int64"
      ]
     },
     "execution_count": 21,
     "metadata": {},
     "output_type": "execute_result"
    }
   ],
   "source": [
    "attacks"
   ]
  },
  {
   "cell_type": "code",
   "execution_count": 22,
   "metadata": {},
   "outputs": [],
   "source": [
    "dictionary = dict(zip(country, attacks))\n"
   ]
  },
  {
   "cell_type": "code",
   "execution_count": 23,
   "metadata": {},
   "outputs": [
    {
     "data": {
      "text/plain": [
       "{'Angola': 6,\n",
       " 'Burkina Faso': 32,\n",
       " 'Burundi': 21,\n",
       " 'Cameroon': 94,\n",
       " 'CAR': 43,\n",
       " 'Chad': 6,\n",
       " 'Congo': 143,\n",
       " 'Djibouti': 1,\n",
       " 'Ethiopia': 27,\n",
       " 'Gabon': 4,\n",
       " 'Ivory Coast': 13,\n",
       " 'Kenya': 97,\n",
       " 'Liberia': 1,\n",
       " 'Malawi': 1,\n",
       " 'Mali': 141,\n",
       " 'Mozambique': 11,\n",
       " 'Niger': 13,\n",
       " 'Nigeria': 484,\n",
       " 'Rwanda': 2,\n",
       " 'Sierra Leone': 3,\n",
       " 'Somalia': 614,\n",
       " 'South Africa': 29,\n",
       " 'South Sudan': 54,\n",
       " 'Sudan': 106,\n",
       " 'Tanzania': 6,\n",
       " 'Uganda': 13,\n",
       " 'Zambia': 2,\n",
       " 'Zimbabwe': 3}"
      ]
     },
     "execution_count": 23,
     "metadata": {},
     "output_type": "execute_result"
    }
   ],
   "source": [
    "dictionary"
   ]
  },
  {
   "cell_type": "code",
   "execution_count": 24,
   "metadata": {},
   "outputs": [],
   "source": [
    "sorted_countries = sorted(dictionary, key=dictionary.get, reverse=True)"
   ]
  },
  {
   "cell_type": "code",
   "execution_count": 25,
   "metadata": {},
   "outputs": [
    {
     "data": {
      "text/plain": [
       "['Somalia',\n",
       " 'Nigeria',\n",
       " 'Congo',\n",
       " 'Mali',\n",
       " 'Sudan',\n",
       " 'Kenya',\n",
       " 'Cameroon',\n",
       " 'South Sudan',\n",
       " 'CAR',\n",
       " 'Burkina Faso',\n",
       " 'South Africa',\n",
       " 'Ethiopia',\n",
       " 'Burundi',\n",
       " 'Ivory Coast',\n",
       " 'Niger',\n",
       " 'Uganda',\n",
       " 'Mozambique',\n",
       " 'Angola',\n",
       " 'Chad',\n",
       " 'Tanzania',\n",
       " 'Gabon',\n",
       " 'Sierra Leone',\n",
       " 'Zimbabwe',\n",
       " 'Rwanda',\n",
       " 'Zambia',\n",
       " 'Djibouti',\n",
       " 'Liberia',\n",
       " 'Malawi']"
      ]
     },
     "execution_count": 25,
     "metadata": {},
     "output_type": "execute_result"
    }
   ],
   "source": [
    "sorted_countries"
   ]
  },
  {
   "cell_type": "code",
   "execution_count": 26,
   "metadata": {},
   "outputs": [
    {
     "data": {
      "text/html": [
       "<div>\n",
       "<style scoped>\n",
       "    .dataframe tbody tr th:only-of-type {\n",
       "        vertical-align: middle;\n",
       "    }\n",
       "\n",
       "    .dataframe tbody tr th {\n",
       "        vertical-align: top;\n",
       "    }\n",
       "\n",
       "    .dataframe thead th {\n",
       "        text-align: right;\n",
       "    }\n",
       "</style>\n",
       "<table border=\"1\" class=\"dataframe\">\n",
       "  <thead>\n",
       "    <tr style=\"text-align: right;\">\n",
       "      <th></th>\n",
       "      <th>Country</th>\n",
       "      <th>Attacks</th>\n",
       "    </tr>\n",
       "  </thead>\n",
       "  <tbody>\n",
       "    <tr>\n",
       "      <th>6</th>\n",
       "      <td>Congo</td>\n",
       "      <td>143</td>\n",
       "    </tr>\n",
       "    <tr>\n",
       "      <th>14</th>\n",
       "      <td>Mali</td>\n",
       "      <td>141</td>\n",
       "    </tr>\n",
       "    <tr>\n",
       "      <th>17</th>\n",
       "      <td>Nigeria</td>\n",
       "      <td>484</td>\n",
       "    </tr>\n",
       "    <tr>\n",
       "      <th>20</th>\n",
       "      <td>Somalia</td>\n",
       "      <td>614</td>\n",
       "    </tr>\n",
       "    <tr>\n",
       "      <th>23</th>\n",
       "      <td>Sudan</td>\n",
       "      <td>106</td>\n",
       "    </tr>\n",
       "  </tbody>\n",
       "</table>\n",
       "</div>"
      ],
      "text/plain": [
       "    Country  Attacks\n",
       "6     Congo      143\n",
       "14     Mali      141\n",
       "17  Nigeria      484\n",
       "20  Somalia      614\n",
       "23    Sudan      106"
      ]
     },
     "execution_count": 26,
     "metadata": {},
     "output_type": "execute_result"
    }
   ],
   "source": [
    "top_5 = terror_data.loc[(terror_data[\"Country\"] ==\"Somalia\")  | (terror_data[\"Country\"] ==\"Nigeria\") | (terror_data[\"Country\"] ==\"Congo\") |\n",
    "                        (terror_data[\"Country\"] ==\"Mali\") | (terror_data[\"Country\"] ==\"Sudan\"), :]\n",
    "                \n",
    "top_5 "
   ]
  },
  {
   "cell_type": "code",
   "execution_count": 27,
   "metadata": {},
   "outputs": [
    {
     "data": {
      "text/plain": [
       "6     143\n",
       "14    141\n",
       "17    484\n",
       "20    614\n",
       "23    106\n",
       "Name: Attacks, dtype: int64"
      ]
     },
     "execution_count": 27,
     "metadata": {},
     "output_type": "execute_result"
    }
   ],
   "source": [
    "country_top_5 = top_5[\"Country\"]\n",
    "country_top_5\n",
    "attacks_top_5 = top_5[\"Attacks\"]\n",
    "attacks_top_5\n"
   ]
  },
  {
   "cell_type": "code",
   "execution_count": 28,
   "metadata": {},
   "outputs": [],
   "source": [
    "bottom_5 = terror_data.loc[(terror_data[\"Country\"] ==\"Malawi\")  | (terror_data[\"Country\"] ==\"Liberia\") | (terror_data[\"Country\"] ==\"Djibouti\") |\n",
    "                        (terror_data[\"Country\"] ==\"Zambia\") | (terror_data[\"Country\"] ==\"Rwanda\"), :]"
   ]
  },
  {
   "cell_type": "code",
   "execution_count": 29,
   "metadata": {},
   "outputs": [
    {
     "data": {
      "text/plain": [
       "7     1\n",
       "12    1\n",
       "13    1\n",
       "18    2\n",
       "26    2\n",
       "Name: Attacks, dtype: int64"
      ]
     },
     "execution_count": 29,
     "metadata": {},
     "output_type": "execute_result"
    }
   ],
   "source": [
    "country_bottom_5 = bottom_5[\"Country\"]\n",
    "country_bottom_5\n",
    "attacks_bottom_5 = bottom_5[\"Attacks\"]\n",
    "attacks_bottom_5"
   ]
  },
  {
   "cell_type": "code",
   "execution_count": 31,
   "metadata": {},
   "outputs": [
    {
     "data": {
      "text/plain": [
       "Text(0.5,1,'Sub-Sahara African Countries with Highest Terror Attacks in 2017')"
      ]
     },
     "execution_count": 31,
     "metadata": {},
     "output_type": "execute_result"
    },
    {
     "data": {
      "image/png": "[encoded data removed]",
      "text/plain": [
       "<Figure size 432x288 with 1 Axes>"
      ]
     },
     "metadata": {},
     "output_type": "display_data"
    }
   ],
   "source": [
    "plt.bar(country_top_5, attacks_top_5, align = \"center\", color = [\"turquoise\",\"mediumturquoise\",\n",
    "                             \"darkturquoise\",\"c\",\"lightseagreen\",\"teal\"])\n",
    "\n",
    "y_pos = np.arange(len(country_top_5))\n",
    "plt.xticks(y_pos, country_top_5, rotation = 85)\n",
    "plt.ylabel(\"Terror Attacks\")\n",
    "plt.title(\"Sub-Sahara African Countries with Highest Terror Attacks in 2017\")"
   ]
  },
  {
   "cell_type": "code",
   "execution_count": 33,
   "metadata": {},
   "outputs": [
    {
     "data": {
      "text/plain": [
       "Text(0.5,1,'Sub-Sahara African Countries with Lowest Terror Attacks in 2017')"
      ]
     },
     "execution_count": 33,
     "metadata": {},
     "output_type": "execute_result"
    },
    {
     "data": {
      "image/png": "[encoded data removed]",
      "text/plain": [
       "<Figure size 432x288 with 1 Axes>"
      ]
     },
     "metadata": {},
     "output_type": "display_data"
    }
   ],
   "source": [
    "plt.bar(country_bottom_5, attacks_bottom_5, align = \"center\", color = [\"turquoise\",\"mediumturquoise\",\n",
    "                             \"darkturquoise\",\"c\",\"lightseagreen\",\"teal\"])\n",
    "\n",
    "y_pos = np.arange(len(country_bottom_5))\n",
    "plt.xticks(y_pos, country_bottom_5, rotation = 85)\n",
    "plt.ylabel(\"Terror Attacks\")\n",
    "\n",
    "plt.title(\"Sub-Sahara African Countries with Lowest Terror Attacks in 2017\")"
   ]
  },
  {
   "cell_type": "code",
   "execution_count": null,
   "metadata": {},
   "outputs": [],
   "source": []
  }
 ],
 "metadata": {
  "kernelspec": {
   "display_name": "Python 3",
   "language": "python",
   "name": "python3"
  },
  "language_info": {
   "codemirror_mode": {
    "name": "ipython",
    "version": 3
   },
   "file_extension": ".py",
   "mimetype": "text/x-python",
   "name": "python",
   "nbconvert_exporter": "python",
   "pygments_lexer": "ipython3",
   "version": "3.6.5"
  }
 },
 "nbformat": 4,
 "nbformat_minor": 2
}
